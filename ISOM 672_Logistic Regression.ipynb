{
 "cells": [
  {
   "cell_type": "markdown",
   "metadata": {},
   "source": [
    "# Logistic Regression"
   ]
  },
  {
   "cell_type": "markdown",
   "metadata": {},
   "source": [
    "Logistic regression is a clasification model that is very easy to implement but performs very well on linearly seperable classes. It is one of the most widely used algorithms for classification in the industry. Logistic regression is a linear model for **binary classification** that can be extended to multiclass classification as you will learn in the advanced Machine Learning courses."
   ]
  },
  {
   "cell_type": "markdown",
   "metadata": {},
   "source": [
    "To explain the idea behind the logistic regression as a probabilistic model, let's first introduce the **odds ratio**, which is the odds in favor of a particular event. The odds ration can be written as $\\frac{p}{(1-p)}$, where $p$ stands for the probability of a positive event. Note that the term _positive event_ does not necessarily mean good, but refers to the event that we want to predict, for example, the probability that a patient has a certain disease; we can think of the positive event as the class label $y=1$. We can then further define the **logit** function, which is simply the logarithm of the odds ratio (log-odds):\n",
    "\n",
    "$$logit(p)=log\\frac{p}{(1-p)}$$"
   ]
  },
  {
   "cell_type": "markdown",
   "metadata": {},
   "source": [
    "The logit function takes input values in the range $0$ to $1$ and transforms them to the values over the entire real number range, which we can use to express a linear relationship between feature values and the log-odds:\n",
    "\n",
    "$$logit(p(y=1|x))=w_0x_0+w_1x_1+...+w_mx_m=w^Tx$$\n",
    "\n",
    "where $p(y=1|x)$ is the conditional probability that a particular sample/instance belong to class $1$ given its features $X$.\n",
    "\n",
    "Now that we are actually intersted in is predicting the probability that a certain sample belong to a particular class, which is the inverse form of the logit function. It is also called the *logistic* function, simetimes simply abbreciated as _sigmoid_ function due to its characteristic S-shape.\n",
    "\n",
    "$$\\phi(z)=\\frac{1}{1+e^{-z}}=\\frac{1}{1+e^{-(w_0x_0+w_1x_1+...+w_mx_m)}}$$"
   ]
  },
  {
   "cell_type": "markdown",
   "metadata": {},
   "source": [
    "Now let's simply plot the sigmoid functuin for some values in the range $-8$ tp $8$ to see what it looks like:\n"
   ]
  },
  {
   "cell_type": "code",
   "execution_count": 11,
   "metadata": {},
   "outputs": [
    {
     "name": "stdout",
     "output_type": "stream",
     "text": [
      "(-8.0, 0.0003353501304664781)\n"
     ]
    },
    {
     "data": {
      "image/png": "[encoded data removed]",
      "text/plain": [
       "<Figure size 432x288 with 1 Axes>"
      ]
     },
     "metadata": {
      "needs_background": "light"
     },
     "output_type": "display_data"
    }
   ],
   "source": [
    "#################################### Visualization of Sigmoid Function ####################################\n",
    "\n",
    "# Import necessary libraries and modules\n",
    "import matplotlib.pyplot as plt\n",
    "import numpy as np\n",
    "\n",
    "# Sigmoid Function\n",
    "def sigmoid(z):\n",
    "    return 1.0 / (1.0 + np.exp(-z))\n",
    "\n",
    "# List of values\n",
    "z = np.arange(-8, 8, 0.1) # Return evenly spaced values within a given interval using the specified step \n",
    "phi_z = sigmoid(z)        # Takes z as input and returns sigmoid of z\n",
    "print(z[0],phi_z[0])      # See first elements of arrays\n",
    "\n",
    "# Visualization parameters\n",
    "plt.plot(z, phi_z)          # Specify what to plot\n",
    "plt.axvline(0.0, color='k') # Add a vertical line across the axes\n",
    "plt.ylim(-0.1, 1.1)         # Set the y-limits of the current axes\n",
    "plt.xlabel('z')             # Set label of x axis         \n",
    "plt.ylabel('$\\phi (z)$')    # Set label of y axis\n",
    "\n",
    "# y axis ticks and gridline\n",
    "plt.yticks([0.0, 0.5, 1.0])\n",
    "ax = plt.gca()\n",
    "ax.yaxis.grid(True)\n",
    "\n",
    "plt.tight_layout() # tight_layout automatically adjusts subplot params so that the subplot(s) fits in to the figure area.\n",
    "plt.show()         # Display the figure\n"
   ]
  },
  {
   "cell_type": "markdown",
   "metadata": {},
   "source": [
    "We can see that $\\phi(z)$ approaches 1 if $z$ goes towards infinity $(z \\to \\infty)$, since $e^{-z}$ becomes very small for large values of $z$. Similarly,  $\\phi(z)$ goes towards 0 for $(z \\to -\\infty)$ as the result of an increasingly large denominator. Thus, we conclude that this sigmoid function takes real number values as input and transforms them to values in the range $[0,1]$ with an intercept at $\\phi(z)=0.5$"
   ]
  },
  {
   "cell_type": "markdown",
   "metadata": {},
   "source": [
    "The output of the sigmoid function is interpreted as the probability of particular sample belonging to class $1$  $\\phi(z)=p(y=1 \\mid x;w)$, given its features $x$ parameterized by the weights $w$. For example, if we compute $\\phi(z)=0.8$ for a particular flower sample, it means that the chance that this sample is an Iris-Versicolor flower is $80\\%$. Similarly, the probability that this flower is an Iris-Setosa flower can be calculated as $p(y=0 \\mid x;w)=1-P(y=1 \\mid x;w)=0.2$ or $20\\%$. The predicted probability can the simply be converted into a binary outcome via a function:\n",
    "\n",
    "$$\n",
    "    \\widehat{y}  =\\left\\{\n",
    "                \\begin{array}{ll}\n",
    "                  1 \\text{ if } \\phi(z) \\geq 0.5\\\\\n",
    "                  0 \\textit{ otherwise }\\\\\n",
    "                \\end{array}\n",
    "              \\right.\n",
    "$$\n",
    "\n",
    "If we look at the predictive sigmoid plot, this is equivalent to the following:\n",
    "\n",
    "$$\n",
    "    \\widehat{y}  =\\left\\{\n",
    "                \\begin{array}{ll}\n",
    "                  1 \\text{ if } z \\geq 0.0\\\\\n",
    "                  0 \\textit{ otherwise }\\\\\n",
    "                \\end{array}\n",
    "              \\right.\n",
    "$$"
   ]
  },
  {
   "cell_type": "markdown",
   "metadata": {},
   "source": [
    "As we have already discussed, there are many applications where we are not only interested in the predicted class labels, but where estimating the class-membership probability is particularly useful. Logistic regression is used in weather forecasting, for example, to not only predict if it will rain on a particular day but also to report the chance of rain. Similarly, logistic regression can be used to predict the chance that a patient has a particular disease given certain symptoms, which is why logistic regression enjoys wide popularity in the field of medicine."
   ]
  },
  {
   "cell_type": "markdown",
   "metadata": {},
   "source": [
    "# Training a logistic regression model with scikit-learn"
   ]
  },
  {
   "cell_type": "code",
   "execution_count": 14,
   "metadata": {},
   "outputs": [],
   "source": [
    "######################################### Load Libraries and Data #########################################\n",
    "\n",
    "# To write a Python 2/3 compatible codebase, the first step is to add this line to the top of each module\n",
    "from __future__ import division, print_function, unicode_literals\n",
    "\n",
    "# Import necessary libraries and modules \n",
    "# Matplotlib inline allows the output of plotting commands will be displayed inline\n",
    "%matplotlib inline                      \n",
    "from sklearn.datasets import load_iris  # iris dataset\n",
    "from sklearn import linear_model        # The sklearn.linear_model module implements generalized linear models. LR is part of this module\n",
    "\n",
    "# Load the Iris data set\n",
    "# See 'ISOM 672_Decision Trees' for a description of this data set\n",
    "iris = load_iris()\n",
    "X = iris.data[:, [2, 3]]                # Specify attributes\n",
    "y = iris.target                         # Specify target variable"
   ]
  },
  {
   "cell_type": "markdown",
   "metadata": {},
   "source": [
    "When we create an instance of a classifier, the parameter $C$ is the inverse of regularization strength; must be a positive float. Smaller values specify stronger regularization.\n",
    "\n",
    "Multiclass option can be either ‘ovr’ or ‘multinomial’. If the option chosen is ‘ovr’, then a binary problem is fit for each label. Else the loss minimised is the multinomial loss fit across the entire probability distribution.\n",
    "\n",
    "Learning the parameters of a prediction function and testing it on the same data is a methodological mistake: a model that would just repeat the labels of the samples that it has just seen would have a perfect score but would fail to predict anything useful on yet-unseen data. This situation is called overfitting. To avoid it, it is common practice when performing a (supervised) machine learning experiment to hold out part of the available data as a test set X_test, y_test. "
   ]
  },
  {
   "cell_type": "code",
   "execution_count": 43,
   "metadata": {},
   "outputs": [
    {
     "name": "stdout",
     "output_type": "stream",
     "text": [
      "The weights of the attributes are: [[-6.59704616 -8.51895337]\n",
      " [ 1.47462338 -3.04615702]\n",
      " [ 7.79614707  8.63552938]]\n",
      "0 [7.99259179e-01 2.00740821e-01 9.13407541e-16] 1.0\n",
      "             precision    recall  f1-score   support\n",
      "\n",
      "     setosa       1.00      1.00      1.00        20\n",
      " versicolor       0.95      1.00      0.98        20\n",
      "  virginica       1.00      0.95      0.97        20\n",
      "\n",
      "avg / total       0.98      0.98      0.98        60\n",
      "\n"
     ]
    }
   ],
   "source": [
    "######################################### Load Libraries and Modules #########################################\n",
    "\n",
    "from sklearn.model_selection import train_test_split\n",
    "from sklearn.metrics import accuracy_score, f1_score, classification_report\n",
    "\n",
    "############################################    Split the Data   ############################################\n",
    "\n",
    "# Split validation\n",
    "X_train, X_test, y_train, y_test = train_test_split(\n",
    "    X, y, test_size=0.4, random_state=1, stratify=y)\n",
    "\n",
    "#################################### Train the Logistic Regression Model ####################################\n",
    "\n",
    "# We create an instance of the Classifier\n",
    "# Logistic Regression (aka logit) classifier.\n",
    "clf = linear_model.LogisticRegression(C=1e5) # C parameter is the inverse of regularization strength\n",
    "                                             # C must be a positive float\n",
    "                                             # C in this case is 1/lambda\n",
    "                                             # Smaller values specify stronger regularization\n",
    "                                             # Applies regularization by default; you can set C very large to avoid regularization (setting penalty l2 can speed up the estimations with a very large C)\n",
    "# Train the model (fit the data)\n",
    "# As with other classifiers, DecisionTreeClassifier takes as input two arrays: an array X, sparse or dense, \n",
    "# of size [n_samples, n_features] holding the training samples, and an array Y of integer values, size [n_samples], \n",
    "# holding the class labels for the training samples:\n",
    "clf = clf.fit(X_train, y_train)\n",
    "print('The weights of the attributes are:', clf.coef_)\n",
    "\n",
    "\n",
    "#################################### Apply the Logistic Regression Model ####################################\n",
    "\n",
    "y_pred = clf.predict(X_test)             # Classification prediction\n",
    "y_pred_prob = clf.predict_proba(X_test)  # Class probabilities\n",
    "print(y_pred[0], y_pred_prob[0], np.sum(y_pred_prob[0]))\n",
    "\n",
    "################################### Evaluate the Logistic Regression Model ##################################\n",
    "\n",
    "# Build a text report showing the main classification metrics (out-of-sample performance)\n",
    "print(classification_report(y_test, y_pred, target_names=iris.target_names))\n",
    "\n"
   ]
  },
  {
   "cell_type": "markdown",
   "metadata": {},
   "source": [
    "In the case of the Iris dataset, the samples are balanced across target classes hence the accuracy and the F1-score are almost equal."
   ]
  },
  {
   "cell_type": "markdown",
   "metadata": {},
   "source": [
    "# Applying the logistic regression model"
   ]
  },
  {
   "cell_type": "code",
   "execution_count": 23,
   "metadata": {},
   "outputs": [
    {
     "name": "stdout",
     "output_type": "stream",
     "text": [
      "The 1st instance is predicted to belong to class: [0]\n",
      "The probabilities of belonging to each one of the classes are estimated as: [[8.14574852e-01 1.85425148e-01 3.35378283e-18]]\n"
     ]
    }
   ],
   "source": [
    "#################################### Apply the Logistic Regression Model ####################################\n",
    "\n",
    "# After being fitted, the model can then be used to predict the class of samples:\n",
    "print('The 1st instance is predicted to belong to class:', clf.predict(iris.data[:1, [2, 3]]))\n",
    "\n",
    "# Alternatively, the probability of each class can be predicted, which is the fraction of training samples of the same class in a leaf:\n",
    "print('The probabilities of belonging to each one of the classes are estimated as:', clf.predict_proba(iris.data[:1, [2, 3]]))\n",
    "\n",
    "# Try also clf.decision_function(X)\n",
    "# The desion function tells us on which side of the hyperplane generated by the classifier we are \n",
    "# (and how far we are away from it). Based on that information, the estimator then label the examples \n",
    "# with the corresponding label."
   ]
  },
  {
   "cell_type": "markdown",
   "metadata": {},
   "source": [
    "# Visualizing the logistic regression boundaries"
   ]
  },
  {
   "cell_type": "code",
   "execution_count": 24,
   "metadata": {},
   "outputs": [],
   "source": [
    "# Function that will help us visualize the decision surfaces\n",
    "from matplotlib.colors import ListedColormap\n",
    "import matplotlib.pyplot as plt\n",
    "import numpy as np\n",
    "\n",
    "\n",
    "def plot_decision_regions(X, y, classifier, test_idx=None, resolution=0.02):\n",
    "\n",
    "    # setup marker generator and color map\n",
    "    markers = ('s', 'x', 'o', '^', 'v')\n",
    "    colors = ('red', 'blue', 'lightgreen', 'gray', 'cyan')\n",
    "    cmap = ListedColormap(colors[:len(np.unique(y))])\n",
    "\n",
    "    # plot the decision surface\n",
    "    x1_min, x1_max = X[:, 0].min() - 1, X[:, 0].max() + 1\n",
    "    x2_min, x2_max = X[:, 1].min() - 1, X[:, 1].max() + 1\n",
    "    xx1, xx2= np.meshgrid(np.arange(x1_min, x1_max, resolution),\n",
    "                           np.arange(x2_min, x2_max, resolution))\n",
    "    Z = classifier.predict(np.array([xx1.ravel(), xx2.ravel()]).T)\n",
    "    Z = Z.reshape(xx1.shape)\n",
    "    plt.contourf(xx1, xx2, Z, alpha=0.3, cmap=cmap)\n",
    "    plt.xlim(xx1.min(), xx1.max())\n",
    "    plt.ylim(xx2.min(), xx2.max())\n",
    "\n",
    "    for idx, cl in enumerate(np.unique(y)):\n",
    "        plt.scatter(x=X[y == cl, 0], \n",
    "                    y=X[y == cl, 1],\n",
    "                    alpha=0.8, \n",
    "                    c=colors[idx],\n",
    "                    marker=markers[idx], \n",
    "                    label=cl, \n",
    "                    edgecolor='black')\n",
    "\n",
    "    # highlight test samples\n",
    "    if test_idx:\n",
    "        # plot all samples\n",
    "        X_test, y_test = X[test_idx, :], y[test_idx]\n",
    "\n",
    "        plt.scatter(X_test[:, 0],\n",
    "                    X_test[:, 1],\n",
    "                    c='',\n",
    "                    edgecolor='black',\n",
    "                    alpha=1.0,\n",
    "                    linewidth=1,\n",
    "                    marker='o',\n",
    "                    s=100, \n",
    "                    label='test set')\n",
    "                    \n",
    "\n"
   ]
  },
  {
   "cell_type": "code",
   "execution_count": 25,
   "metadata": {},
   "outputs": [
    {
     "data": {
      "image/png": "[encoded data removed]",
      "text/plain": [
       "<Figure size 432x288 with 1 Axes>"
      ]
     },
     "metadata": {
      "needs_background": "light"
     },
     "output_type": "display_data"
    }
   ],
   "source": [
    "from sklearn.linear_model import LogisticRegression\n",
    "#from mlxtend.plotting import plot_decision_regions\n",
    "\n",
    "# Function that will help us visualize the decision surfaces\n",
    "from matplotlib.colors import ListedColormap\n",
    "import matplotlib.pyplot as plt\n",
    "import numpy as np\n",
    "\n",
    "X_combined = np.vstack((X_train, X_test))\n",
    "y_combined = np.hstack((y_train, y_test))\n",
    "\n",
    "lr = LogisticRegression(C=1e5, random_state=1)\n",
    "lr.fit(X_train, y_train)\n",
    "\n",
    "plot_decision_regions(X_combined, y_combined,\n",
    "                      classifier=lr, test_idx=range(105, 150))\n",
    "\n",
    "plt.xlabel('petal length [standardized]')\n",
    "plt.ylabel('petal width [standardized]')\n",
    "plt.legend(loc='upper left')\n",
    "plt.tight_layout()\n",
    "plt.show()"
   ]
  },
  {
   "cell_type": "markdown",
   "metadata": {},
   "source": [
    "#  Estimating Generalization Performance with Cross-Validation"
   ]
  },
  {
   "cell_type": "markdown",
   "metadata": {},
   "source": [
    "In the basic approach, called $k$-fold CV, the training set is split into k smaller sets (other approaches are described below, but generally follow the same principles). The following procedure is followed for each of the k “folds”:\n",
    "\n",
    "\n",
    "- A model is trained using $k$-1 of the folds as training data;\n",
    "- the resulting model is validated on the remaining part of the data (i.e., it is used as a test set to compute a performance measure such as accuracy).\n",
    "\n",
    "\n",
    "The performance measure reported by k-fold cross-validation is then the average of the values computed in the loop. This approach can be computationally expensive, but does not waste too much data (as it is the case when fixing an arbitrary test set), which is a major advantage in problem such as inverse inference where the number of samples is very small.\n",
    "\n",
    "The simplest way to use cross-validation is to call the cross_val_score helper function on the estimator and the dataset.\n",
    "\n",
    "The following example demonstrates how to estimate the accuracy of a logistic regression on the iris dataset by splitting the data, fitting a model and computing the score 5 and 10 consecutive times respectively (with different splits each time):"
   ]
  },
  {
   "cell_type": "code",
   "execution_count": 27,
   "metadata": {},
   "outputs": [
    {
     "name": "stdout",
     "output_type": "stream",
     "text": [
      "Accuracy: 0.87 (+/- 0.14)\n",
      "[0.86666667 0.83333333 0.83333333 0.8        1.        ]\n",
      "F1-score: 0.86 (+/- 0.17)\n",
      "[0.78021978 0.86111111 0.86111111 0.7979798  0.86111111 0.7979798\n",
      " 0.73333333 0.86111111 1.         1.        ]\n"
     ]
    }
   ],
   "source": [
    "#################################### Logistic Regression with Cross Validation ####################################\n",
    "\n",
    "from sklearn import metrics \n",
    "from sklearn.linear_model import LogisticRegression\n",
    "from sklearn.model_selection import cross_val_score\n",
    "\n",
    "# Fit model to all the data\n",
    "clf_lr = linear_model.LogisticRegression(C=1)\n",
    "\n",
    "# Evaluate performance with cross-validation\n",
    "# Read more about cross_val_score in the following link \n",
    "# http://scikit-learn.org/stable/modules/generated/sklearn.model_selection.cross_val_score.html#sklearn.model_selection.cross_val_score\n",
    "\n",
    "# Accuracy\n",
    "scores=cross_val_score(clf_lr, iris.data[:, [2, 3]], iris.target, cv=5)\n",
    "print(\"Accuracy: %0.2f (+/- %0.2f)\" % (scores.mean(), scores.std() * 2))\n",
    "print(scores)\n",
    "\n",
    "# F-1 scores\n",
    "scores_f1=cross_val_score(clf_lr, iris.data[:, [2, 3]], iris.target, cv=10, scoring='f1_macro')\n",
    "print(\"F1-score: %0.2f (+/- %0.2f)\" % (scores_f1.mean(), scores_f1.std() * 2))# returns an array of scores of the estimator for each run of the cross validation.\n",
    "print(scores_f1)"
   ]
  },
  {
   "cell_type": "code",
   "execution_count": 38,
   "metadata": {},
   "outputs": [
    {
     "name": "stdout",
     "output_type": "stream",
     "text": [
      "[1.         1.         1.         0.93265993 0.93265993 0.93265993\n",
      " 0.7979798  0.93265993 1.         1.        ]\n",
      "Accuracy: 0.95 (+/- 0.12)\n"
     ]
    }
   ],
   "source": [
    "# Use all features of the data\n",
    "scores = cross_val_score(clf_lr, iris.data, iris.target, cv=10, scoring='f1_macro')\n",
    "print(scores)\n",
    "print(\"Accuracy: %0.2f (+/- %0.2f)\" % (scores.mean(), scores.std() * 2))"
   ]
  },
  {
   "cell_type": "markdown",
   "metadata": {},
   "source": [
    "In the case of the Iris dataset, the samples are balanced across target classes hence the accuracy and the F1-score are almost equal."
   ]
  },
  {
   "cell_type": "markdown",
   "metadata": {},
   "source": [
    "# Learning Curves "
   ]
  },
  {
   "cell_type": "markdown",
   "metadata": {},
   "source": [
    "A learning curve shows the validation and training score of an estimator for varying numbers of training samples. It is a tool to find out how much we benefit from adding more training data. If both the validation score and the training score converge to a value that is too low with increasing size of the training set, we will not benefit much from more training data. \n",
    "\n",
    "If the training score is much greater than the validation score for the maximum number of training samples, adding more training samples will most likely increase generalization."
   ]
  },
  {
   "cell_type": "code",
   "execution_count": 42,
   "metadata": {},
   "outputs": [],
   "source": [
    "################################## Define function that plots Learning Curves ##################################\n",
    "\n",
    "def plot_learning_curve(estimator, title, X, y, ylim=None, cv=None,\n",
    "                        n_jobs=1, train_sizes=np.linspace(.1, 1.0, 5)): # np.linspace(.1, 1.0, 5) will return evenly\n",
    "                                                                        # spaced 5 numbers from 0.1 to 1.0\n",
    "                        # n_jobs is the number of CPUs to use to do the computation. \n",
    "    \"\"\"\n",
    "    Generate a simple plot of the test and training learning curve.\n",
    "\n",
    "    Parameters\n",
    "    ----------\n",
    "    estimator : object type that implements the \"fit\" and \"predict\" methods\n",
    "        An object of that type which is cloned for each validation.\n",
    "\n",
    "    title : string\n",
    "        Title for the chart.\n",
    "\n",
    "    X : array-like, shape (n_samples, n_features)\n",
    "        Training vector, where n_samples is the number of samples and\n",
    "        n_features is the number of features.\n",
    "\n",
    "    y : array-like, shape (n_samples) or (n_samples, n_features), optional\n",
    "        Target relative to X for classification or regression;\n",
    "        None for unsupervised learning.\n",
    "\n",
    "    ylim : tuple, shape (ymin, ymax), optional\n",
    "        Defines minimum and maximum yvalues plotted.\n",
    "\n",
    "    cv : int, cross-validation generator or an iterable, optional\n",
    "        Determines the cross-validation splitting strategy.\n",
    "        Possible inputs for cv are:\n",
    "          - None, to use the default 3-fold cross-validation,\n",
    "          - integer, to specify the number of folds.\n",
    "          - An object to be used as a cross-validation generator.\n",
    "          - An iterable yielding train/test splits.\n",
    "\n",
    "        For integer/None inputs, if ``y`` is binary or multiclass,\n",
    "        :class:`StratifiedKFold` used. If the estimator is not a classifier\n",
    "        or if ``y`` is neither binary nor multiclass, :class:`KFold` is used.\n",
    "\n",
    "        Refer :ref:`User Guide <cross_validation>` for the various\n",
    "        cross-validators that can be used here.\n",
    "\n",
    "    n_jobs : integer, optional\n",
    "        Number of jobs to run in parallel (default 1).\n",
    "    \"\"\"\n",
    "    \n",
    "    # Visualization patamters\n",
    "    plt.figure()\n",
    "    plt.title(title)\n",
    "    if ylim is not None:\n",
    "        plt.ylim(*ylim)\n",
    "    plt.xlabel(\"Training examples\")\n",
    "    plt.ylabel(\"Score\")\n",
    "    \n",
    "    # Estimate train and test score for different training set sizes\n",
    "    train_sizes, train_scores, test_scores = learning_curve(\n",
    "        estimator, X, y, cv=cv, n_jobs=n_jobs, train_sizes=train_sizes) # learning_curve Determines cross-validated \n",
    "                                                                        # training and test scores for different \n",
    "                                                                        # training set sizes.\n",
    "\n",
    "    # Estimate statistics of train and test scores (mean, std)\n",
    "    train_scores_mean = np.mean(train_scores, axis=1)\n",
    "    train_scores_std = np.std(train_scores, axis=1)\n",
    "    test_scores_mean = np.mean(test_scores, axis=1)\n",
    "    test_scores_std = np.std(test_scores, axis=1)\n",
    "    plt.grid()\n",
    "\n",
    "    # Fill the area around the mean scores with standard deviation info\n",
    "    plt.fill_between(train_sizes, train_scores_mean - train_scores_std,\n",
    "                     train_scores_mean + train_scores_std, alpha=0.1,\n",
    "                     color=\"r\") # Fill for train set scores\n",
    "\n",
    "    plt.fill_between(train_sizes, test_scores_mean - test_scores_std,\n",
    "                     test_scores_mean + test_scores_std, alpha=0.1, color=\"g\")  # Fill for test set scores\n",
    "    \n",
    "    # Visualization parameters that will allow us to distinguish train set scores from test set scores\n",
    "    plt.plot(train_sizes, train_scores_mean, 'o-', color=\"r\",\n",
    "             label=\"Training score\")\n",
    "    plt.plot(train_sizes, test_scores_mean, 'o-', color=\"g\",\n",
    "             label=\"Cross-validation score\")\n",
    "\n",
    "    plt.legend(loc=\"best\")\n",
    "    return plt"
   ]
  },
  {
   "cell_type": "code",
   "execution_count": 37,
   "metadata": {},
   "outputs": [
    {
     "data": {
      "image/png": "[encoded data removed]",
      "text/plain": [
       "<Figure size 432x288 with 1 Axes>"
      ]
     },
     "metadata": {
      "needs_background": "light"
     },
     "output_type": "display_data"
    },
    {
     "data": {
      "image/png": "[encoded data removed]",
      "text/plain": [
       "<Figure size 432x288 with 1 Axes>"
      ]
     },
     "metadata": {
      "needs_background": "light"
     },
     "output_type": "display_data"
    }
   ],
   "source": [
    "###################################### Plot Learning Curves (LR and kNN) #######################################\n",
    "\n",
    "from sklearn.model_selection import learning_curve\n",
    "from sklearn.model_selection import ShuffleSplit\n",
    "from sklearn.linear_model import LogisticRegression\n",
    "from sklearn import neighbors\n",
    "\n",
    "title = \"Learning Curve (LR)\"\n",
    "# SVC is more expensive so we do a lower number of CV iterations:\n",
    "cv = ShuffleSplit(n_splits=10, test_size=0.3, random_state=42)\n",
    "estimator = LogisticRegression()\n",
    "plot_learning_curve(estimator, title, X, y, (0.0, 1.01), cv=cv, n_jobs=4)\n",
    "\n",
    "plt.show()\n",
    "\n",
    "title = \"Learning Curve (kNN)\"\n",
    "# SVC is more expensive so we do a lower number of CV iterations:\n",
    "cv = ShuffleSplit(n_splits=10, test_size=0.3, random_state=42)\n",
    "estimator = neighbors.KNeighborsClassifier() #n_neighbors=\n",
    "plot_learning_curve(estimator, title, X, y, (0.0, 1.01), cv=cv, n_jobs=4)\n",
    "\n",
    "plt.show()\n",
    "\n"
   ]
  }
 ],
 "metadata": {
  "anaconda-cloud": {},
  "kernelspec": {
   "display_name": "Python 3",
   "language": "python",
   "name": "python3"
  },
  "language_info": {
   "codemirror_mode": {
    "name": "ipython",
    "version": 3
   },
   "file_extension": ".py",
   "mimetype": "text/x-python",
   "name": "python",
   "nbconvert_exporter": "python",
   "pygments_lexer": "ipython3",
   "version": "3.7.3"
  }
 },
 "nbformat": 4,
 "nbformat_minor": 1
}
